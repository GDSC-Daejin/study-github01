{
 "cells": [
  {
   "cell_type": "code",
   "execution_count": 3,
   "metadata": {},
   "outputs": [
    {
     "data": {
      "text/plain": [
       "'/media/lala/로컬 디스크/python/ml_dacon_haja'"
      ]
     },
     "execution_count": 3,
     "metadata": {},
     "output_type": "execute_result"
    }
   ],
   "source": [
    "pwd"
   ]
  },
  {
   "cell_type": "code",
   "execution_count": 19,
   "metadata": {},
   "outputs": [],
   "source": [
    "import os\n",
    "import random\n",
    "from PIL import Image\n",
    "from torchvision.transforms import Compose, RandomApply, RandomRotation, RandomAffine, RandomHorizontalFlip, RandomVerticalFlip, RandomResizedCrop\n",
    "\n",
    "# 증강된 이미지를 저장할 경로\n",
    "aug_dir = './data2/train'\n",
    "\n",
    "# train 데이터셋 폴더 경로\n",
    "train_dir = './data/train'\n",
    "\n",
    "# 라벨별 이미지 개수 카운트\n",
    "label_counts = {}\n",
    "for label in os.listdir(train_dir):\n",
    "    label_dir = os.path.join(train_dir, label)\n",
    "    if os.path.isdir(label_dir):\n",
    "        image_files = [os.path.join(label_dir, f) for f in os.listdir(label_dir) if os.path.isfile(os.path.join(label_dir, f))]\n",
    "        label_counts[label] = len(image_files)\n",
    "\n",
    "# 라벨별 이미지 개수를 500장으로 맞추기 위해 적용할 transform 정의\n",
    "transform = Compose([\n",
    "    RandomApply([RandomRotation((-15, 15))], p=0.5),\n",
    "    RandomApply([RandomAffine(degrees=15, translate=(0.1, 0.1), scale=(0.9, 1.1), shear=(-10, 10))], p=0.5),\n",
    "    RandomApply([RandomHorizontalFlip()], p=0.5),\n",
    "    RandomApply([RandomVerticalFlip()], p=0.5),\n",
    "    RandomApply([RandomResizedCrop(size=224, scale=(0.5, 1.0), ratio=(0.75, 1.3333333333333333))], p=0.5),\n",
    "    RandomApply([GaussianBlur(kernel_size=5)], p=0.5)\n",
    "])\n",
    "\n",
    "# 라벨별 이미지 개수가 500장 이하인 경우, transform 적용한 증강 이미지 추가\n",
    "for label in label_counts.keys():\n",
    "    label_dir = os.path.join(train_dir, label)\n",
    "    image_files = [os.path.join(label_dir, f) for f in os.listdir(label_dir) if os.path.isfile(os.path.join(label_dir, f))]\n",
    "    \n",
    "    if label_counts[label] < 300:\n",
    "        # 라벨별 이미지 개수가 500장보다 작은 경우 부족한 개수만큼 이미지를 증강시켜 추가\n",
    "        augment_count = 300 - label_counts[label]\n",
    "        for i in range(augment_count):\n",
    "            image_file = random.choice(image_files)\n",
    "            image = Image.open(image_file)\n",
    "            transformed_image = transform(image)\n",
    "            \n",
    "            # 저장할 디렉토리가 없을 경우 생성\n",
    "            if not os.path.exists(os.path.join(aug_dir, label)):\n",
    "                os.makedirs(os.path.join(aug_dir, label))\n",
    "            \n",
    "            filename, ext = os.path.splitext(os.path.basename(image_file))\n",
    "            transformed_image.save(os.path.join(aug_dir, label, f'aug_{i}_{filename}{ext}'))\n",
    "    else:\n",
    "                # 라벨별 이미지 개수가 500장 이상인 경우, 랜덤하게 500장 선택해서 저장\n",
    "        selected_files = random.sample(image_files, 300)\n",
    "        for image_file in selected_files:\n",
    "            image = Image.open(image_file)\n",
    "            \n",
    "            # 저장할 디렉토리가 없을 경우 생성\n",
    "            if not os.path.exists(os.path.join(aug_dir, label)):\n",
    "                os.makedirs(os.path.join(aug_dir, label))\n",
    "            \n",
    "            filename, ext = os.path.splitext(os.path.basename(image_file))\n",
    "            image.save(os.path.join(aug_dir, label, f'aug_{filename}{ext}'))\n"
   ]
  },
  {
   "cell_type": "code",
   "execution_count": 22,
   "metadata": {},
   "outputs": [],
   "source": [
    "sorted_data = sorted(label_counts.items(), key=lambda x: x[1])"
   ]
  },
  {
   "cell_type": "code",
   "execution_count": 23,
   "metadata": {},
   "outputs": [
    {
     "data": {
      "text/plain": [
       "[('반점', 3),\n",
       " ('틈새과다', 5),\n",
       " ('가구수정', 12),\n",
       " ('녹오염', 14),\n",
       " ('이음부불량', 17),\n",
       " ('울음', 22),\n",
       " ('창틀,문틀수정', 27),\n",
       " ('피스', 51),\n",
       " ('들뜸', 54),\n",
       " ('석고수정', 57),\n",
       " ('면불량', 99),\n",
       " ('몰딩수정', 130),\n",
       " ('오타공', 142),\n",
       " ('곰팡이', 145),\n",
       " ('터짐', 162),\n",
       " ('꼬임', 210),\n",
       " ('걸레받이수정', 307),\n",
       " ('오염', 595),\n",
       " ('훼손', 1405)]"
      ]
     },
     "execution_count": 23,
     "metadata": {},
     "output_type": "execute_result"
    }
   ],
   "source": [
    "sorted_data"
   ]
  },
  {
   "cell_type": "code",
   "execution_count": null,
   "metadata": {},
   "outputs": [],
   "source": []
  }
 ],
 "metadata": {
  "kernelspec": {
   "display_name": "torch",
   "language": "python",
   "name": "python3"
  },
  "language_info": {
   "codemirror_mode": {
    "name": "ipython",
    "version": 3
   },
   "file_extension": ".py",
   "mimetype": "text/x-python",
   "name": "python",
   "nbconvert_exporter": "python",
   "pygments_lexer": "ipython3",
   "version": "3.8.16"
  },
  "orig_nbformat": 4
 },
 "nbformat": 4,
 "nbformat_minor": 2
}
